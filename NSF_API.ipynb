{
 "cells": [
  {
   "cell_type": "markdown",
   "id": "a6f31818-e13b-47f9-8b6b-05f8d2bd607a",
   "metadata": {},
   "source": [
    "## creating dict_careers"
   ]
  },
  {
   "cell_type": "code",
   "execution_count": 5,
   "id": "63bf56ad-33f6-49c8-bed7-893e4d4a9b96",
   "metadata": {},
   "outputs": [],
   "source": [
    "# years = np.arange(1975,2023)\n",
    "# from main_career import *"
   ]
  },
  {
   "cell_type": "code",
   "execution_count": 7,
   "id": "1614c13b-14ab-4b12-86e0-83037f086670",
   "metadata": {},
   "outputs": [],
   "source": [
    "# FILES ARE MISNAMED (ERC instead of NSF)"
   ]
  },
  {
   "cell_type": "code",
   "execution_count": 1,
   "id": "48970cad-899c-419b-bb1f-ccc2c9c286ae",
   "metadata": {},
   "outputs": [],
   "source": [
    "import pickle\n",
    "import numpy as np\n",
    "from multiprocessing import Pool\n",
    "import requests, json\n",
    "import pandas as pd\n",
    "import glob\n",
    "import timeit\n",
    "import time\n",
    "from multiprocessing import Pool\n",
    "import numpy as np\n",
    "def toc(start_time):\n",
    "    elapsed = timeit.default_timer() - start_time\n",
    "    print(elapsed)\n",
    "from zipfile import ZipFile\n",
    "import re\n",
    "import xmlschema\n",
    "from pprint import pprint\n",
    "import glob\n",
    "# importing element tree\n",
    "import lxml.etree as etree\n",
    "\n",
    "import pickle\n",
    "from get_career import *\n",
    "\n",
    "def main(year):\n",
    "    year=str(year);\n",
    "\n",
    "\n",
    "    path_career='/mnt/sdb1/sandeep/5. NSF vs ERC/data/'\n",
    "\n",
    "    #----------------\n",
    "    dict_careers={}\n",
    "    with open(path_career+'NSF_names_'+str(year)+'.pkl', 'rb') as f:\n",
    "        names_=pickle.load(f)    \n",
    "    t_ic = time.time();\n",
    "    path_codes='/mnt/sdb1/sandeep/5. NSF vs ERC/codes/'\n",
    "    \n",
    "    for it in range(4500+1,len(names_)):\n",
    "        auth_name_to_search=names_[it]\n",
    "        career_=get_career_from_name(auth_name_to_search.replace(',',''));\n",
    "        dict_careers[auth_name_to_search] = json.dumps(career_)\n",
    "#         if it%10==0:\n",
    "        print(it,len(names_),end='\\r')\n",
    "        t_oc = time.time();\n",
    "        progress=year+'   '+str(it)+ '---- '+str((it+1)/len(names_))+' '+str(round(t_oc-t_ic,2))+'--estimated---'+str(round((t_oc-t_ic)/((it+1)/len(names_))/3600,3))+'hours'\n",
    "        print(progress,end='\\r')\n",
    "        with open(path_codes+\"0_track_\"+year+\".txt\", \"w\") as file_object:\n",
    "            file_object.write(progress+'\\n')\n",
    "\n",
    "        if (it%100==0) and it>0:\n",
    "            num_file=round((it+1)/100)\n",
    "            path_career='/mnt/sdb1/sandeep/5. NSF vs ERC/data/'\n",
    "            with open(path_career+'dict_NSF_careers_'+year+'_'+str(num_file)+'.pkl', 'wb') as f:\n",
    "                pickle.dump(dict_careers, f)\n",
    "            dict_careers={} \n"
   ]
  },
  {
   "cell_type": "code",
   "execution_count": null,
   "id": "de9c843d-596a-4e17-a6c1-0b9ac60d4c11",
   "metadata": {},
   "outputs": [
    {
     "name": "stdout",
     "output_type": "stream",
     "text": [
      "2008   4502---- 0.3926920729048574 4.87--estimated---0.003hours\r"
     ]
    }
   ],
   "source": [
    "main(2008)"
   ]
  },
  {
   "cell_type": "code",
   "execution_count": null,
   "id": "359185a5-e814-4456-aba8-1005dd44b3b9",
   "metadata": {},
   "outputs": [],
   "source": []
  },
  {
   "cell_type": "code",
   "execution_count": null,
   "id": "a3dc44c4-5d01-409c-8059-97612c41ac03",
   "metadata": {},
   "outputs": [],
   "source": [
    "# if __name__ == '__main__':\n",
    "#     with Pool(2) as pool: #  parallel jobs\n",
    "#         results = pool.map(main, np.arange(2010,2015))"
   ]
  },
  {
   "cell_type": "code",
   "execution_count": null,
   "id": "dd626436-b8a7-4a88-bef8-bc8557eb215d",
   "metadata": {},
   "outputs": [],
   "source": [
    "# if __name__ == '__main__':\n",
    "#     with Pool(5) as pool: #  parallel jobs\n",
    "#         results = pool.map(main, np.arange(2015,2023))"
   ]
  },
  {
   "cell_type": "code",
   "execution_count": null,
   "id": "a66fd888-158e-4048-931b-22b1dbf1c679",
   "metadata": {},
   "outputs": [],
   "source": [
    "# if __name__ == '__main__':\n",
    "#     with Pool(5) as pool: #  parallel jobs\n",
    "#         results = pool.map(main, np.arange(1990,2000))"
   ]
  },
  {
   "cell_type": "code",
   "execution_count": null,
   "id": "649a0f1c-f260-4767-9da3-701e464755d2",
   "metadata": {},
   "outputs": [],
   "source": [
    "# if __name__ == '__main__':\n",
    "#     with Pool(5) as pool: #  parallel jobs\n",
    "#         results = pool.map(main, np.arange(1975,1990))"
   ]
  },
  {
   "cell_type": "code",
   "execution_count": 6,
   "id": "1a0fbc90-0e13-4840-abb1-483b65bcfb25",
   "metadata": {},
   "outputs": [],
   "source": [
    "path_career='/mnt/sdb1/sandeep/5. NSF vs ERC/data/'\n",
    "\n",
    "#----------------\n",
    "all_nsf_names=[]\n",
    "for year in range(2009,2022):\n",
    "    with open(path_career+'NSF_names_'+str(year)+'.pkl', 'rb') as f:\n",
    "        names_=pickle.load(f)   \n",
    "    all_nsf_names=all_nsf_names+list(names_)"
   ]
  },
  {
   "cell_type": "code",
   "execution_count": null,
   "id": "88742f49-0adb-48ed-8044-a2edea6e5650",
   "metadata": {},
   "outputs": [],
   "source": []
  },
  {
   "cell_type": "code",
   "execution_count": null,
   "id": "0ecbb8c1-37b5-4aa1-b43d-3703b729928e",
   "metadata": {},
   "outputs": [
    {
     "name": "stdout",
     "output_type": "stream",
     "text": [
      "NSF   103040---- 0.6991260923845194 7241.14--estimated---2.877hours\r"
     ]
    }
   ],
   "source": [
    "# names_=list(df['Researcher (PI)'].values)\n",
    "path_career='/mnt/sdb1/sandeep/5. NSF vs ERC/data/'\n",
    "\n",
    "\n",
    "def get_citation_counts_for_sci(auth_name_to_search):\n",
    "#     auth_name_to_search='monika HENZINGER'\n",
    "    # url='https://api.openalex.org/authors?mailto=chowdhary_sandeep@phd.ceu.edu,page=1,filter=display_name.search:'+auth_name_to_search\n",
    "    # work_groups_url='https://api.openalex.org/authors?filter=display_name.search:'+auth_name_to_search\n",
    "    url='https://api.openalex.org/authors?filter=display_name.search:'+auth_name_to_search+'&sort=works_count:desc'\n",
    "#     print(url)\n",
    "    headers = {\n",
    "        'User-Agent': 'chowdhary_sandeep',\n",
    "        'From': 'chowdhary_sandeep@phd.ceu.edu'  # This is another valid field\n",
    "    }\n",
    "\n",
    "    response = requests.get(url, headers=headers)\n",
    "    try:\n",
    "        response.raise_for_status()  # raises exception when not a 2xx response\n",
    "\n",
    "\n",
    "        if response.status_code != 204:\n",
    "            x= response.json()\n",
    "        ## Retrieve author-id and get career\n",
    "        #(I choose the first match which is usually the one with most papers) \n",
    "        #x= json.loads(response.content.decode(\"utf-8\"))\n",
    "            if 'results' in x.keys():\n",
    "                if len(x['results'])>0:\n",
    "                    new_url__=x['results'][0]['works_api_url']\n",
    "\n",
    "                    return x['results'][0]\n",
    "            else:\n",
    "                return 'NA'\n",
    "        else:\n",
    "            return 'NA'\n",
    "    except:\n",
    "        return 'NA'\n",
    "#----------------\n",
    "t_ic = time.time();\n",
    "path_codes='/mnt/sdb1/sandeep/5. NSF vs ERC/codes/'\n",
    "it=88114\n",
    "# dict_sci_counts={}\n",
    "for it in range(-1+88114,len(all_nsf_names)):\n",
    "# for it in range(-1+1,10):\n",
    "    auth_name_to_search=all_nsf_names[it]\n",
    "    dict_sci_counts[auth_name_to_search]=json.dumps(get_citation_counts_for_sci(auth_name_to_search.replace(',','')));it+=1;\n",
    "    \n",
    "#     dict_careers[auth_name_to_search] = json.dumps(career_)\n",
    "#     print(auth_name_to_search)\n",
    "    \n",
    "# #         if it%10==0:\n",
    "#     print(it,len(names_),end='\\r')\n",
    "    t_oc = time.time();\n",
    "    progress='NSF'+'   '+str(it)+ '---- '+str(it/len(all_nsf_names))+' '+str(round(t_oc-t_ic,2))+'--estimated---'+str(round((t_oc-t_ic)/(it/len(all_nsf_names))/3600,3))+'hours'\n",
    "    print(progress,end='\\r')\n",
    "    with open(path_codes+\"0_track_NSF.txt\", \"w\") as file_object:\n",
    "        file_object.write(progress+'\\n')\n",
    "\n",
    "#     if (it%100==0) and it>0:\n",
    "#         num_file=round((it+1)/100)\n",
    "#         path_career='/mnt/sdb1/sandeep/5. NSF vs ERC/data/'\n",
    "with open(path_career+'dict_counts_NSF.pkl', 'wb') as f:\n",
    "    pickle.dump(dict_sci_counts, f)\n",
    "\n"
   ]
  },
  {
   "cell_type": "code",
   "execution_count": 15,
   "id": "5355a5b6-834e-47cb-9c53-f2dd161791b8",
   "metadata": {},
   "outputs": [
    {
     "data": {
      "text/plain": [
       "57227"
      ]
     },
     "execution_count": 15,
     "metadata": {},
     "output_type": "execute_result"
    }
   ],
   "source": [
    "len(dict_sci_counts)"
   ]
  },
  {
   "cell_type": "code",
   "execution_count": null,
   "id": "36275c16-3fe0-4728-9d1d-a62d230f8f00",
   "metadata": {},
   "outputs": [],
   "source": [
    "https://api.openalex.org/authors?filter=display_name.search:'+auth_name_to_search+'&sort=works_count:desc"
   ]
  },
  {
   "cell_type": "code",
   "execution_count": null,
   "id": "30e4b0f6-4cfc-46ef-a144-b87e4ae5a6ab",
   "metadata": {},
   "outputs": [],
   "source": []
  },
  {
   "cell_type": "code",
   "execution_count": null,
   "id": "ad23993b-a813-4ea8-8200-d3fc0c4b30e6",
   "metadata": {},
   "outputs": [],
   "source": []
  }
 ],
 "metadata": {
  "kernelspec": {
   "display_name": "Python 3",
   "language": "python",
   "name": "python3"
  },
  "language_info": {
   "codemirror_mode": {
    "name": "ipython",
    "version": 3
   },
   "file_extension": ".py",
   "mimetype": "text/x-python",
   "name": "python",
   "nbconvert_exporter": "python",
   "pygments_lexer": "ipython3",
   "version": "3.9.2"
  }
 },
 "nbformat": 4,
 "nbformat_minor": 5
}
