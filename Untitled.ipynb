{
 "cells": [
  {
   "cell_type": "code",
   "execution_count": 2,
   "id": "8727ddce-c2d1-4ae6-876b-6740f78212aa",
   "metadata": {},
   "outputs": [],
   "source": [
    "from distinctipy import distinctipy\n"
   ]
  },
  {
   "cell_type": "code",
   "execution_count": null,
   "id": "f9572f20-7f61-45d9-8d59-0c6117f36d3a",
   "metadata": {},
   "outputs": [],
   "source": []
  }
 ],
 "metadata": {
  "kernelspec": {
   "display_name": "Python 3",
   "language": "python",
   "name": "python3"
  },
  "language_info": {
   "codemirror_mode": {
    "name": "ipython",
    "version": 3
   },
   "file_extension": ".py",
   "mimetype": "text/x-python",
   "name": "python",
   "nbconvert_exporter": "python",
   "pygments_lexer": "ipython3",
   "version": "3.9.2"
  }
 },
 "nbformat": 4,
 "nbformat_minor": 5
}
