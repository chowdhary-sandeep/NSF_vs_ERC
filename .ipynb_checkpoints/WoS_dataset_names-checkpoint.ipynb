{
 "cells": [
  {
   "cell_type": "code",
   "execution_count": null,
   "id": "17db3d59-08ae-40e0-ae38-7491101518e0",
   "metadata": {},
   "outputs": [
    {
     "name": "stdout",
     "output_type": "stream",
     "text": [
      "00\n",
      "144.7990605533123\n",
      "None\n"
     ]
    }
   ],
   "source": [
    "# import pandas as pd\n",
    "# import glob\n",
    "# import timeit\n",
    "# import time\n",
    "# from multiprocessing import Pool\n",
    "# import numpy as np\n",
    "# def toc(start_time):\n",
    "#     elapsed = timeit.default_timer() - start_time\n",
    "#     print(elapsed)\n",
    "   \n",
    "    "
   ]
  },
  {
   "cell_type": "code",
   "execution_count": 4,
   "id": "ac910c1a-db95-4912-9a0e-2198ade17a15",
   "metadata": {},
   "outputs": [],
   "source": [
    "\n",
    "    \n",
    "# # # # \n",
    "# # start_time = timeit.default_timer()\n",
    "# # names=\"/mnt/sdb1/sandeep/article_c5_ALL.csv.gz\"\n",
    "# # files=sorted(glob.glob(names))\n",
    "\n",
    "# # p=Pool(processes=10)\n",
    "# # df_c5 = pd.concat(p.map(pd.read_csv,files),ignore_index=True)\n",
    "# # print(toc(start_time))\n",
    "# # # names_par=\"/mnt/sdb1/sandeep/z_article_c5.parquet\"\n",
    "# # # df_c5.to_parquet(names_par,index=None)\n",
    "\n",
    "# # p.close()\n",
    "# # print(toc(start_time))\n",
    "\n",
    "\n",
    "\n",
    "\n",
    "\n",
    "# start_time = timeit.default_timer()\n",
    "\n",
    "# # ----------------------------------------------------------------------------------\n",
    "# # Loading auth info files in batches of 10\n",
    "# # out of all the 5000 files, NNN=500\n",
    "# # ----------------------------------------------------------------------------------\n",
    "# t_ic = time.time();\n",
    "# df_all_authors=pd.DataFrame()\n",
    "# for i_parquet in range(0,5):    \n",
    "#     names_i=\"/mnt/sdb1/sandeep/upward_mobi/auth_info_with_GEO00000000\"+str(i_parquet)\n",
    "# # ----------------------------------------------------------------------------------\n",
    "#     for j_parquet in range(0,10):\n",
    "#         names_ij=names_i+str(j_parquet)        \n",
    "# # ----------------------------------------------------------------------------------\n",
    "# #         for k_parquet in range(0,10):  \n",
    "#         t_oc = time.time();\n",
    "#         with open(\"/mnt/sdb1/sandeep/5. NSF vs ERC/progress_bar.txt\", \"a\") as file_object:\n",
    "#             file_object.write(str(i_parquet)+str(j_parquet)+'---time taken-'+str(round(t_oc-t_ic,2))+'\\n')\n",
    "\n",
    "#         p=Pool(processes=18)\n",
    "\n",
    "#         names=names_ij+'*'\n",
    "# #             +str(k_parquet)+'*'\n",
    "# #         names_par0=\"/mnt/sdb1/sandeep/upward_mobi_parquets/dais_auth_info\"+str(i_parquet)+str(j_parquet)+str(k_parquet)+\".parquet\"\n",
    "# #         names_par1=\"/mnt/sdb1/sandeep/upward_mobi_parquets/name_auth_info\"+str(i_parquet)+str(j_parquet)+str(k_parquet)+\".parquet\"\n",
    "\n",
    "#         start_time = timeit.default_timer()\n",
    "# #         print(str(i_parquet)+str(j_parquet)+str(k_parquet))\n",
    "#         print(str(i_parquet)+str(j_parquet))\n",
    "#         files=sorted(glob.glob(names))\n",
    "#         df_temp = pd.concat(p.map(pd.read_csv,files),ignore_index=True)\n",
    "#         print(toc(start_time))\n",
    "#         # ----------------------------------------------------------------------------------\n",
    "#         # dropping NAN rows and sorting the table auth info\n",
    "#         # ----------------------------------------------------------------------------------\n",
    "#         df_temp=df_temp.dropna(subset=['article_id', 'auth_dais'], how='any')\n",
    "#         df1=df_temp\n",
    "#         df1['affil_geo']= df1.org.fillna('') +', '+ df1.city.fillna('') +', '+ df1.state.fillna('') +', '+ df1.country.fillna('') +', '+ df1.postal.fillna('')\n",
    "#         del df1['org'],df1['city'],df1['sub_org'],df1['state'],df1['country'],df1['postal']\n",
    "\n",
    "#         df_all_authors=pd.concat([df_all_authors,df1[['auth_dais','auth_name']].drop_duplicates()])\n",
    "#         df_all_authors=df_all_authors.drop_duplicates()\n",
    "# #             df_temp_sorted=df_temp.sort_values(\"auth_dais\")\n",
    "#         # ----------------------------------------------------------------------------------\n",
    "# #             AUTH_IDS=list(df_temp_sorted.auth_dais)\n",
    "#         # ----------------------------------------------------------------------------------\n",
    "#         # Matching author ids in author_listX X=20, to filter out authors with less than 20 papers\n",
    "#         # ----------------------------------------------------------------------------------            \n",
    "# #             merged_left=df1.merge(df2.loc[df2.index.isin(df1['auth_dais'])],\n",
    "# #               how='left', left_on='auth_dais', right_index=True) \n",
    "\n",
    "            \n",
    "# #             df_author=merged_left.loc[merged_left['num_papers'] > NUM_PAPER_THRESHOLD]\n",
    "# #             df_author.head()\n",
    "# #             # ----------------------------------------------------------------------------------\n",
    "# #             # Separating columns org and name which are objects and take a lot of space\n",
    "# #             # ----------------------------------------------------------------------------------\n",
    "\n",
    "# #             df_author_no_name=df_author.iloc[:,[0,1,3,4]]\n",
    "# #             df_author_name=df_author.iloc[:,[1,2]]\n",
    "# #             # ----------------------------------------------------------------------------------\n",
    "# #             #SAVING TABLES AS parquets\n",
    "# #             # ----------------------------------------------------------------------------------\n",
    "# #             print('----merged----',toc(start_time))\n",
    "            \n",
    "\n",
    "#         print('----finished writing to file---',toc(start_time))\n",
    "#         p.close()\n",
    "# #         break\n",
    "# #         break\n",
    "# #     break\n",
    "\n",
    "# # # names\n",
    "# # # df_temp\n",
    "# # df_all_authors.info()\n",
    "# X=df_all_authors.auth_name.values\n",
    "# # X=[x.lower() for x in X]\n",
    "\n",
    "# from fuzzywuzzy import fuzz\n",
    "# name ='Monika HENZINGER'.lower()\n",
    "# res=[fuzz.partial_ratio(name,x) for x in X]\n",
    "\n",
    "# # fuzz.token_sort_ratio(\"Catherine Gitau M.\", \"Gitau Catherine\")\n",
    "# X[np.where(res==max(res))[0][0]]\n",
    "\n",
    "# # \n",
    "\n",
    "\n",
    "# df_all_authors\n",
    "# import pickle\n",
    "# with open('/mnt/sdb1/sandeep/5. NSF vs ERC/data/'+'df_all_authors.pkl', 'wb') as f:\n",
    "#     pickle.dump(df_all_authors, f)  \n",
    "# ind=np.where(res==max(res))[0]\n",
    "# ind=np.where(res>70)[0]\n",
    "# df_all_authors.iloc[ind]"
   ]
  },
  {
   "cell_type": "markdown",
   "id": "08d1b04e-d681-4b91-9922-286e3aa72fdd",
   "metadata": {},
   "source": []
  },
  {
   "cell_type": "code",
   "execution_count": 6,
   "id": "29d761dd-1bf8-497e-8949-e8a9c06ac6bd",
   "metadata": {},
   "outputs": [
    {
     "name": "stdout",
     "output_type": "stream",
     "text": [
      "<class 'pandas.core.frame.DataFrame'>\n",
      "Int64Index: 3701411 entries, 0 to 139316091\n",
      "Data columns (total 2 columns):\n",
      " #   Column     Dtype  \n",
      "---  ------     -----  \n",
      " 0   auth_dais  float64\n",
      " 1   auth_name  object \n",
      "dtypes: float64(1), object(1)\n",
      "memory usage: 84.7+ MB\n"
     ]
    }
   ],
   "source": []
  },
  {
   "cell_type": "code",
   "execution_count": 94,
   "id": "3248952d-9681-47c2-a065-7493e7511bfc",
   "metadata": {},
   "outputs": [],
   "source": []
  },
  {
   "cell_type": "code",
   "execution_count": null,
   "id": "d2376842-7667-4671-8bc8-998b4290fca6",
   "metadata": {},
   "outputs": [],
   "source": []
  },
  {
   "cell_type": "code",
   "execution_count": 14,
   "id": "d69ac063-ade6-4093-9795-9bc11a17b206",
   "metadata": {},
   "outputs": [],
   "source": [
    "# "
   ]
  },
  {
   "cell_type": "code",
   "execution_count": null,
   "id": "65d1ca0f-f31a-432e-8329-9cf26f75fdd1",
   "metadata": {},
   "outputs": [],
   "source": []
  },
  {
   "cell_type": "code",
   "execution_count": 31,
   "id": "c388a6ca-ad5a-45b1-844e-7cfc9f45a0af",
   "metadata": {},
   "outputs": [],
   "source": []
  },
  {
   "cell_type": "code",
   "execution_count": 32,
   "id": "cf5a2595-ca6e-4a51-a1d1-514cf16c1457",
   "metadata": {},
   "outputs": [
    {
     "data": {
      "text/plain": [
       "array([73, 80, 73, 71, 71, 73, 71, 71, 71, 75, 75, 71, 71, 71, 71, 71, 73,\n",
       "       75, 75, 71, 71, 74, 80, 71, 71, 71, 71, 75, 71, 80, 71, 71, 71, 71,\n",
       "       75, 71, 71, 71, 71, 71, 73, 75, 71, 73, 73, 75, 71, 71, 71, 71, 71,\n",
       "       71, 71, 83, 75, 75, 71, 73, 71, 71, 73, 71, 75, 71, 86, 75, 71, 71,\n",
       "       80, 73, 71, 71, 71, 71, 71, 71, 71, 75, 86, 71, 71, 71, 71, 71, 71,\n",
       "       71, 71, 71, 80, 71, 75, 71, 71, 86, 71, 71, 73, 71, 71, 72, 71, 73,\n",
       "       75, 71, 71, 71, 71, 73, 71, 71, 71, 73, 71, 80, 86, 71, 80, 71, 71,\n",
       "       73, 71, 71, 73, 71, 71, 78, 71, 71, 71, 73, 75])"
      ]
     },
     "execution_count": 32,
     "metadata": {},
     "output_type": "execute_result"
    }
   ],
   "source": []
  },
  {
   "cell_type": "code",
   "execution_count": null,
   "id": "5c8fecdc-6c15-40b6-a069-237a018ad2ab",
   "metadata": {},
   "outputs": [],
   "source": []
  },
  {
   "cell_type": "code",
   "execution_count": 33,
   "id": "0586e8f6-1c28-44a5-be04-dfe29e42ca81",
   "metadata": {},
   "outputs": [
    {
     "data": {
      "text/plain": [
       "'he ning'"
      ]
     },
     "execution_count": 33,
     "metadata": {},
     "output_type": "execute_result"
    }
   ],
   "source": []
  },
  {
   "cell_type": "code",
   "execution_count": null,
   "id": "aa82409b-9a5f-4df0-aa09-c91ebd12e639",
   "metadata": {},
   "outputs": [],
   "source": []
  },
  {
   "cell_type": "code",
   "execution_count": 34,
   "id": "59d7aa7c-9386-494b-a2a5-786a3b24cca9",
   "metadata": {},
   "outputs": [
    {
     "data": {
      "text/html": [
       "<div>\n",
       "<style scoped>\n",
       "    .dataframe tbody tr th:only-of-type {\n",
       "        vertical-align: middle;\n",
       "    }\n",
       "\n",
       "    .dataframe tbody tr th {\n",
       "        vertical-align: top;\n",
       "    }\n",
       "\n",
       "    .dataframe thead th {\n",
       "        text-align: right;\n",
       "    }\n",
       "</style>\n",
       "<table border=\"1\" class=\"dataframe\">\n",
       "  <thead>\n",
       "    <tr style=\"text-align: right;\">\n",
       "      <th></th>\n",
       "      <th>auth_dais</th>\n",
       "      <th>auth_name</th>\n",
       "    </tr>\n",
       "  </thead>\n",
       "  <tbody>\n",
       "    <tr>\n",
       "      <th>427705</th>\n",
       "      <td>12728246.0</td>\n",
       "      <td>Ni, Zhenmin</td>\n",
       "    </tr>\n",
       "    <tr>\n",
       "      <th>512950</th>\n",
       "      <td>11044224.0</td>\n",
       "      <td>Enzinger, C.</td>\n",
       "    </tr>\n",
       "    <tr>\n",
       "      <th>532040</th>\n",
       "      <td>16719053.0</td>\n",
       "      <td>Hetzinger, S.</td>\n",
       "    </tr>\n",
       "    <tr>\n",
       "      <th>579747</th>\n",
       "      <td>15034263.0</td>\n",
       "      <td>Xia Han</td>\n",
       "    </tr>\n",
       "    <tr>\n",
       "      <th>794517</th>\n",
       "      <td>3360900.0</td>\n",
       "      <td>Li Chen</td>\n",
       "    </tr>\n",
       "    <tr>\n",
       "      <th>...</th>\n",
       "      <td>...</td>\n",
       "      <td>...</td>\n",
       "    </tr>\n",
       "    <tr>\n",
       "      <th>46478344</th>\n",
       "      <td>15034279.0</td>\n",
       "      <td>Xia, He</td>\n",
       "    </tr>\n",
       "    <tr>\n",
       "      <th>78675367</th>\n",
       "      <td>1480680.0</td>\n",
       "      <td>He Ling</td>\n",
       "    </tr>\n",
       "    <tr>\n",
       "      <th>63556030</th>\n",
       "      <td>16014949.0</td>\n",
       "      <td>Li Chen</td>\n",
       "    </tr>\n",
       "    <tr>\n",
       "      <th>43868236</th>\n",
       "      <td>10426152.0</td>\n",
       "      <td>Benzinger, A.</td>\n",
       "    </tr>\n",
       "    <tr>\n",
       "      <th>94920039</th>\n",
       "      <td>5069502.0</td>\n",
       "      <td>He, Ning</td>\n",
       "    </tr>\n",
       "  </tbody>\n",
       "</table>\n",
       "<p>131 rows × 2 columns</p>\n",
       "</div>"
      ],
      "text/plain": [
       "           auth_dais      auth_name\n",
       "427705    12728246.0    Ni, Zhenmin\n",
       "512950    11044224.0   Enzinger, C.\n",
       "532040    16719053.0  Hetzinger, S.\n",
       "579747    15034263.0        Xia Han\n",
       "794517     3360900.0        Li Chen\n",
       "...              ...            ...\n",
       "46478344  15034279.0        Xia, He\n",
       "78675367   1480680.0        He Ling\n",
       "63556030  16014949.0        Li Chen\n",
       "43868236  10426152.0  Benzinger, A.\n",
       "94920039   5069502.0       He, Ning\n",
       "\n",
       "[131 rows x 2 columns]"
      ]
     },
     "execution_count": 34,
     "metadata": {},
     "output_type": "execute_result"
    }
   ],
   "source": []
  },
  {
   "cell_type": "code",
   "execution_count": null,
   "id": "6468d314-6259-4e27-ad1f-1c8b59bff5c5",
   "metadata": {},
   "outputs": [],
   "source": [
    "# df_all_authors[df_all_authors.auth_dais==np.array(df_all_authors.iloc[ind].auth_dais)[0]]"
   ]
  },
  {
   "cell_type": "code",
   "execution_count": null,
   "id": "84a65a95-f5aa-4082-adf0-2ca9ec2dba37",
   "metadata": {},
   "outputs": [],
   "source": []
  },
  {
   "cell_type": "code",
   "execution_count": null,
   "id": "dd6136fd-7bc3-405e-ba39-66217d477f00",
   "metadata": {},
   "outputs": [],
   "source": []
  },
  {
   "cell_type": "code",
   "execution_count": 179,
   "id": "c42244f9-0084-40d8-96d5-09d48fc15911",
   "metadata": {},
   "outputs": [],
   "source": [
    "# # build the 'filter' parameter\n",
    "# filter_by_institution_id = 'institutions.ror:https://ror.org/02y3ad647'\n",
    "# filter_by_paratext = 'is_paratext:false'\n",
    "# filter_by_type = 'type:journal-article'\n",
    "# filter_by_publication_date = 'from_publication_date:2012-07-20'\n",
    "# mailto_='chowdhary_sandeep@phd.ceu.edu'\n",
    "# all_filters = (filter_by_institution_id, filter_by_paratext, filter_by_type, filter_by_publication_date,mailto_)\n",
    "# filter_param = f'filter={\",\".join(all_filters)}'\n",
    "# print(f'filter query parameter:\\n  {filter_param}')\n",
    "\n",
    "# # put the URL together\n",
    "\n",
    "# filtered_works_url = f'https://api.openalex.org/works?{filter_param}'\n",
    "# print(f'complete URL:\\n  {filtered_works_url} ...')"
   ]
  },
  {
   "cell_type": "code",
   "execution_count": 180,
   "id": "040c89d2-a2e8-4cf7-aa3e-d3f73aad02db",
   "metadata": {},
   "outputs": [],
   "source": [
    "# group_by_param = 'group_by=is_oa'\n",
    "\n",
    "# work_groups_url = f'{filtered_works_url}&{group_by_param}'\n",
    "# print(f'complete URL with group_by:\\n  {work_groups_url}')\n"
   ]
  },
  {
   "cell_type": "code",
   "execution_count": 136,
   "id": "1da4dc0b-b685-4041-941f-6a7b6127b660",
   "metadata": {},
   "outputs": [],
   "source": [
    "import requests, json\n",
    "import pandas as pd\n",
    "import glob\n",
    "import timeit\n",
    "import time\n",
    "from multiprocessing import Pool\n",
    "import numpy as np\n",
    "def toc(start_time):\n",
    "    elapsed = timeit.default_timer() - start_time\n",
    "    print(elapsed)\n",
    "    \n",
    "    \n",
    "auth_name_to_search='\"monika HENZINGER\"'\n",
    "# mailto_=\n",
    "filter_by_type = 'display_name.search:'+auth_name_to_search\n",
    "\n",
    "all_filters = (filter_by_type, mailto_)\n",
    "\n",
    "filter_param = f'filter={\",\".join(all_filters)}'\n",
    "\n",
    "# put the URL together\n",
    "\n",
    "# filtered_works_url = f'https://api.openalex.org/works?{filter_param}'\n",
    "\n",
    "url='https://api.openalex.org/authors?mailto=chowdhary_sandeep@phd.ceu.edu,page=1,filter=display_name.search:'+auth_name_to_search\n",
    "url='https://api.openalex.org/authors?filter=display_name.search:'+auth_name_to_search\n",
    "# work_groups_url='https://api.openalex.org/authors?filter=display_name.search:'+auth_name_to_search"
   ]
  },
  {
   "cell_type": "code",
   "execution_count": 137,
   "id": "c23d5045-f530-44e9-b002-d068dd0d6276",
   "metadata": {},
   "outputs": [],
   "source": [
    "\n",
    "response = requests.get(url)\n",
    "# work_groups = response.json()['group_by']\n",
    "# print(json.dumps(work_groups, indent=2))\n"
   ]
  },
  {
   "cell_type": "code",
   "execution_count": 172,
   "id": "b3f3ab6d-6685-43e5-b14f-e7f3fc513050",
   "metadata": {},
   "outputs": [],
   "source": [
    "x= json.loads(response.content.decode(\"utf-8\"))\n",
    "new_url=x['results'][0]['works_api_url']"
   ]
  },
  {
   "cell_type": "code",
   "execution_count": 183,
   "id": "ce16e6df-df8d-4fed-9c04-7c24fc47ae5f",
   "metadata": {},
   "outputs": [
    {
     "name": "stdout",
     "output_type": "stream",
     "text": [
      "https://api.openalex.org/works?filter=author.id:A2695385476,page=2\n"
     ]
    }
   ],
   "source": [
    "print(new_url)"
   ]
  },
  {
   "cell_type": "code",
   "execution_count": 202,
   "id": "5396af56-1d01-4c9d-8fbc-2663cdc3b960",
   "metadata": {},
   "outputs": [
    {
     "data": {
      "text/plain": [
       "dict_keys(['meta', 'results', 'group_by'])"
      ]
     },
     "execution_count": 202,
     "metadata": {},
     "output_type": "execute_result"
    }
   ],
   "source": [
    "cursor='*'\n",
    "response = requests.get(new_url+'&per-page=100&cursor='+cursor)\n",
    "res = json.loads(response.content.decode(\"utf-8\"))\n",
    "res.keys()"
   ]
  },
  {
   "cell_type": "code",
   "execution_count": 210,
   "id": "c4a6b8e4-21a8-4166-9292-195f88c2feb7",
   "metadata": {},
   "outputs": [],
   "source": [
    "# res['results'][99]"
   ]
  },
  {
   "cell_type": "code",
   "execution_count": 209,
   "id": "cef734b1-ab19-4933-ba24-8a65e7261e8b",
   "metadata": {},
   "outputs": [
    {
     "data": {
      "text/plain": [
       "dict_keys(['meta', 'results', 'group_by'])"
      ]
     },
     "execution_count": 209,
     "metadata": {},
     "output_type": "execute_result"
    }
   ],
   "source": [
    "cursor=res['meta']['next_cursor']\n",
    "response = requests.get(new_url+'&per-page=100&cursor='+cursor)\n",
    "res = json.loads(response.content.decode(\"utf-8\"))\n",
    "res.keys()"
   ]
  },
  {
   "cell_type": "code",
   "execution_count": 212,
   "id": "9139a798-d8f1-4938-88a4-021526640821",
   "metadata": {},
   "outputs": [],
   "source": [
    "# res['results'][0]"
   ]
  },
  {
   "cell_type": "code",
   "execution_count": 213,
   "id": "a92dae9b-4d1e-446a-9d0a-0c1e360bc4e3",
   "metadata": {},
   "outputs": [
    {
     "data": {
      "text/plain": [
       "dict_keys(['meta', 'results', 'group_by'])"
      ]
     },
     "execution_count": 213,
     "metadata": {},
     "output_type": "execute_result"
    }
   ],
   "source": [
    "cursor=res['meta']['next_cursor']\n",
    "response = requests.get(new_url+'&per-page=100&cursor='+cursor)\n",
    "res = json.loads(response.content.decode(\"utf-8\"))\n",
    "res.keys()"
   ]
  },
  {
   "cell_type": "code",
   "execution_count": 216,
   "id": "df2ddd3c-fe09-4f60-a9b2-768dc2e58c41",
   "metadata": {},
   "outputs": [
    {
     "data": {
      "text/plain": [
       "100"
      ]
     },
     "execution_count": 216,
     "metadata": {},
     "output_type": "execute_result"
    }
   ],
   "source": [
    "len(res['results'])"
   ]
  },
  {
   "cell_type": "code",
   "execution_count": 217,
   "id": "6f791236-50f4-4149-a3d9-651f428432f6",
   "metadata": {},
   "outputs": [
    {
     "data": {
      "text/plain": [
       "dict_keys(['meta', 'results', 'group_by'])"
      ]
     },
     "execution_count": 217,
     "metadata": {},
     "output_type": "execute_result"
    }
   ],
   "source": [
    "cursor=res['meta']['next_cursor']\n",
    "response = requests.get(new_url+'&per-page=100&cursor='+cursor)\n",
    "res = json.loads(response.content.decode(\"utf-8\"))\n",
    "res.keys()"
   ]
  },
  {
   "cell_type": "code",
   "execution_count": 218,
   "id": "357f3891-af83-4c81-8c8a-6a24350434e2",
   "metadata": {},
   "outputs": [
    {
     "data": {
      "text/plain": [
       "3"
      ]
     },
     "execution_count": 218,
     "metadata": {},
     "output_type": "execute_result"
    }
   ],
   "source": [
    "len(res['results'])"
   ]
  },
  {
   "cell_type": "code",
   "execution_count": 219,
   "id": "b9bb8192-45c2-4b3a-bbe3-c49aa178a9b0",
   "metadata": {},
   "outputs": [
    {
     "data": {
      "text/plain": [
       "dict_keys(['meta', 'results', 'group_by'])"
      ]
     },
     "execution_count": 219,
     "metadata": {},
     "output_type": "execute_result"
    }
   ],
   "source": [
    "cursor=res['meta']['next_cursor']\n",
    "response = requests.get(new_url+'&per-page=100&cursor='+cursor)\n",
    "res = json.loads(response.content.decode(\"utf-8\"))\n",
    "res.keys()"
   ]
  },
  {
   "cell_type": "code",
   "execution_count": 220,
   "id": "ea713d01-c3bf-48dc-baf7-5ef0302546c5",
   "metadata": {},
   "outputs": [
    {
     "data": {
      "text/plain": [
       "0"
      ]
     },
     "execution_count": 220,
     "metadata": {},
     "output_type": "execute_result"
    }
   ],
   "source": [
    "len(res['results'])"
   ]
  },
  {
   "cell_type": "code",
   "execution_count": null,
   "id": "af08831a-ff94-409a-83b7-258727b378ca",
   "metadata": {},
   "outputs": [],
   "source": []
  }
 ],
 "metadata": {
  "kernelspec": {
   "display_name": "Python 3",
   "language": "python",
   "name": "python3"
  },
  "language_info": {
   "codemirror_mode": {
    "name": "ipython",
    "version": 3
   },
   "file_extension": ".py",
   "mimetype": "text/x-python",
   "name": "python",
   "nbconvert_exporter": "python",
   "pygments_lexer": "ipython3",
   "version": "3.9.2"
  }
 },
 "nbformat": 4,
 "nbformat_minor": 5
}
