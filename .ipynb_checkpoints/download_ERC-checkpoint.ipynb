{
 "cells": [
  {
   "cell_type": "code",
   "execution_count": 1,
   "id": "2928b8e6-6419-4d5d-81ea-2ce12710fc59",
   "metadata": {},
   "outputs": [],
   "source": [
    "import pandas as pd\n",
    "import glob\n",
    "import numpy as np\n",
    "import timeit\n",
    "from multiprocessing import Pool\n",
    "from matplotlib import pyplot as plt\n",
    "def toc(start_time):\n",
    "    elapsed = timeit.default_timer() - start_time\n",
    "    print(elapsed)\n",
    "start_time = timeit.default_timer()\n",
    "\n",
    "# import matplotlib.pyplot as plt\n",
    "import pickle\n",
    "\n",
    "\n",
    "import requests, json\n",
    "import pandas as pd\n",
    "import glob\n",
    "import timeit\n",
    "import time\n",
    "from multiprocessing import Pool\n",
    "import numpy as np\n",
    "def toc(start_time):\n",
    "    elapsed = timeit.default_timer() - start_time\n",
    "    print(elapsed)\n",
    "from zipfile import ZipFile\n",
    "import re\n",
    "import xmlschema\n",
    "from pprint import pprint\n",
    "import glob\n",
    "# importing element tree\n",
    "import lxml.etree as etree\n",
    "\n",
    "import time\n",
    "import pickle\n",
    "from get_career import *"
   ]
  },
  {
   "cell_type": "code",
   "execution_count": 2,
   "id": "073dc55d-ff49-4cd3-9d9f-6fbf70bda2df",
   "metadata": {},
   "outputs": [],
   "source": [
    "# url='https://erc.europa.eu/projects-figures/erc-funded-projects/results?items_per_page=100'\n",
    "# urls=[url]\n",
    "# for page in range(1,122):\n",
    "#     urls.append(url+'&page='+str(page))\n"
   ]
  },
  {
   "cell_type": "code",
   "execution_count": null,
   "id": "490d4bb8-5460-4d0b-af55-101881e78170",
   "metadata": {},
   "outputs": [],
   "source": []
  },
  {
   "cell_type": "code",
   "execution_count": 3,
   "id": "cee45529-379d-453c-b85e-ceb0eccfca3f",
   "metadata": {},
   "outputs": [],
   "source": [
    "# import requests\n",
    "# list_ERC_projects=[]\n",
    "# page=0\n",
    "# for url in urls:\n",
    "#     page=page+1\n",
    "#     response = requests.get(url)\n",
    "#     x=response.content.split(b'Project acronym')\n",
    "#     list_ERC_projects.append(x)\n",
    "#     print(page,len(x),end='\\r')\n",
    "    "
   ]
  },
  {
   "cell_type": "code",
   "execution_count": 4,
   "id": "766027ea-092b-47c4-ab7d-6a86902ebce9",
   "metadata": {},
   "outputs": [],
   "source": [
    "# import pickle \n",
    "# path_career='/mnt/sdb1/sandeep/5. NSF vs ERC/data/'\n",
    "# with open(path_career+'list_ERC_projects.pkl', 'wb') as f:\n",
    "#     pickle.dump(list_ERC_projects, f)   \n"
   ]
  },
  {
   "cell_type": "code",
   "execution_count": 5,
   "id": "b96f0bcb-03f8-4e73-947c-1bd4e8d154c5",
   "metadata": {},
   "outputs": [],
   "source": [
    "# path_career='/mnt/sdb1/sandeep/5. NSF vs ERC/data/'\n",
    "# with open(path_career+'list_ERC_projects.pkl', 'rb') as f:\n",
    "#     list_ERC_projects=pickle.load(f)    "
   ]
  },
  {
   "cell_type": "code",
   "execution_count": 6,
   "id": "3739abaf-e2c6-47b4-9491-26fa8bc799e7",
   "metadata": {},
   "outputs": [],
   "source": [
    "# list_ERC_projects[1][1]\n",
    "import numpy as np"
   ]
  },
  {
   "cell_type": "code",
   "execution_count": null,
   "id": "4f5c4302-64b7-4f76-b3e7-c171c0e5882a",
   "metadata": {},
   "outputs": [],
   "source": []
  },
  {
   "cell_type": "code",
   "execution_count": 7,
   "id": "4ba833bd-ff1b-46ec-a799-420e2880e2b5",
   "metadata": {},
   "outputs": [],
   "source": [
    "# list_ERC_projects_pretty=[]\n",
    "# for page_num in range(0,121):\n",
    "# #     print(page_num)\n",
    "#     for project_num in range(len(list_ERC_projects[page_num])):\n",
    "#         if project_num>0:\n",
    "#             x=list_ERC_projects[page_num][project_num].split(b'>')\n",
    "#             x=[y.strip() for y in x if len(y)>0]\n",
    "#             x=[y.strip().decode('utf-8') for y in x if len(y)>0]\n",
    "#             x=[y for y in x if (y)[0]!='<']\n",
    "#             x=[y.split('<')[0] for y in x]\n",
    "#             if project_num==len(list_ERC_projects[page_num])-1:\n",
    "#                 if page_num==0:\n",
    "#                     ind=np.where(np.array(x)=='1')[0][0]\n",
    "#                     x=x[0:ind]\n",
    "#                 else:\n",
    "#                     ind=np.where(np.array(x)=='« first')[0][0]\n",
    "#                     x=x[0:ind]\n",
    "#             list_ERC_projects_pretty.append(x)\n",
    "        \n",
    "        \n",
    "    "
   ]
  },
  {
   "cell_type": "code",
   "execution_count": 8,
   "id": "11ae867a-26b9-43e7-85f1-55c62aec12c3",
   "metadata": {},
   "outputs": [],
   "source": [
    "# list_ERC_projects_pretty=np.array(list_ERC_projects_pretty)"
   ]
  },
  {
   "cell_type": "code",
   "execution_count": 9,
   "id": "a0eaf8ac-6bab-406a-accc-7cb540cb8ce2",
   "metadata": {},
   "outputs": [],
   "source": [
    "# len(list_ERC_projects_pretty)"
   ]
  },
  {
   "cell_type": "markdown",
   "id": "740a515e-dc49-4bcd-bc3e-3fde157fc92c",
   "metadata": {},
   "source": [
    "# keeping only grants, dropping 28 non-grant entries\n"
   ]
  },
  {
   "cell_type": "code",
   "execution_count": 10,
   "id": "a46e03da-8eea-43f5-a4f7-e38fb45b9364",
   "metadata": {},
   "outputs": [],
   "source": [
    "# L=np.array([len(x) for x in list_ERC_projects_pretty])\n",
    "# tind=np.where(L==19)[0]\n",
    "# list_ERC_projects_pretty=list_ERC_projects_pretty[tind]"
   ]
  },
  {
   "cell_type": "code",
   "execution_count": 11,
   "id": "de383fbc-5f6a-41d2-9afe-a3c29c95c173",
   "metadata": {},
   "outputs": [],
   "source": [
    "# path_career='/mnt/sdb1/sandeep/5. NSF vs ERC/data/'\n",
    "# with open(path_career+'list_ERC_projects_pretty.pkl', 'wb') as f:\n",
    "#     pickle.dump(list_ERC_projects_pretty, f)  \n",
    "    \n",
    "path_career='/mnt/sdb1/sandeep/5. NSF vs ERC/data/'\n",
    "\n",
    "with open(path_career+'list_ERC_projects_pretty.pkl', 'rb') as f:\n",
    "    list_ERC_projects_pretty=pickle.load(f)    "
   ]
  },
  {
   "cell_type": "code",
   "execution_count": 12,
   "id": "7058aa25-6e75-4b4f-ab96-b54409ff008f",
   "metadata": {},
   "outputs": [],
   "source": [
    "import pandas as pd\n",
    "it=0\n",
    "# x=np.array(list_ERC_projects_pretty[it])\n",
    "list_dict=[]\n",
    "for y in list_ERC_projects_pretty:\n",
    "    x=np.array(y);\n",
    "    xx=dict()\n",
    "    for it in range(0,9):\n",
    "        xx[x[2*it+1]]=x[2*it+2]\n",
    "    list_dict.append(xx)\n"
   ]
  },
  {
   "cell_type": "code",
   "execution_count": 13,
   "id": "f8a3e7c4-7deb-44fd-a4c2-ca86b53a4580",
   "metadata": {},
   "outputs": [],
   "source": [
    "df = pd.DataFrame(list_dict)\n"
   ]
  },
  {
   "cell_type": "code",
   "execution_count": 14,
   "id": "030afa6e-8a51-4cdf-8745-71db5c299d8e",
   "metadata": {},
   "outputs": [],
   "source": [
    "df['starting_grant']=np.where(0,1,df['Call Details'].str.lower().str.startswith('starting'))\n",
    "df['adv_grant']=np.where(0,1,df['Call Details'].str.lower().str.startswith('advanced'))\n",
    "df['cons_grant']=np.where(0,1,df['Call Details'].str.lower().str.startswith('conso'))\n",
    "df['proof_grant']=np.where(0,1,df['Call Details'].str.lower().str.startswith('proof'))\n",
    "df['synergy_grant']=np.where(0,1,df['Call Details'].str.lower().str.startswith('synergy'))\n"
   ]
  },
  {
   "cell_type": "code",
   "execution_count": 15,
   "id": "6f5b6524-8d40-4adc-8754-b19d9932f10b",
   "metadata": {},
   "outputs": [
    {
     "name": "stdout",
     "output_type": "stream",
     "text": [
      "11981\n"
     ]
    }
   ],
   "source": [
    "print(sum(df['starting_grant'])+sum(df['adv_grant'])+sum(df['cons_grant'])+(sum(df['proof_grant']))+(sum(df['synergy_grant'])))\n"
   ]
  },
  {
   "cell_type": "code",
   "execution_count": 16,
   "id": "4990ba3c-b5db-4d0a-ab30-838605076252",
   "metadata": {},
   "outputs": [
    {
     "data": {
      "text/plain": [
       "(11982, 14)"
      ]
     },
     "execution_count": 16,
     "metadata": {},
     "output_type": "execute_result"
    }
   ],
   "source": [
    "df.shape"
   ]
  },
  {
   "cell_type": "code",
   "execution_count": 17,
   "id": "5f7dc2d0-1ba3-48b9-aa22-2d4b3f0796a3",
   "metadata": {},
   "outputs": [
    {
     "data": {
      "text/plain": [
       "array(['Tomá\\x9a Jungwirth', 'Svante PÄÄBO', 'Nejc HODNIK', ...,\n",
       "       'Ron Kimmel', 'Aleksandar Vjestica', 'Robert M.O. Puers'],\n",
       "      dtype=object)"
      ]
     },
     "execution_count": 17,
     "metadata": {},
     "output_type": "execute_result"
    }
   ],
   "source": [
    "df['Researcher (PI)'].values"
   ]
  },
  {
   "cell_type": "code",
   "execution_count": 21,
   "id": "3e72897c-9006-4655-a9e6-fd29732db432",
   "metadata": {},
   "outputs": [],
   "source": [
    "# names_=list(df['Researcher (PI)'].values)\n",
    "# for it in range(901,len(names_)):\n",
    "#     auth_name_to_search=names_[it]\n",
    "#     print(auth_name_to_search)"
   ]
  },
  {
   "cell_type": "code",
   "execution_count": null,
   "id": "e68c6929-01aa-4733-9b3d-81247ca7fc81",
   "metadata": {},
   "outputs": [
    {
     "name": "stdout",
     "output_type": "stream",
     "text": [
      "Tomá Jungwirth\n",
      "ERC   1---- 8.345852111500584e-05 0.42--estimated---1.408hours\r"
     ]
    }
   ],
   "source": [
    "names_=list(df['Researcher (PI)'].values)\n",
    "path_career='/mnt/sdb1/sandeep/5. NSF vs ERC/data/'\n",
    "\n",
    "#----------------\n",
    "dict_careers={}\n",
    "t_ic = time.time();\n",
    "path_codes='/mnt/sdb1/sandeep/5. NSF vs ERC/codes/'\n",
    "it=0\n",
    "for it in range(-1+1,len(names_)):\n",
    "    auth_name_to_search=names_[it]\n",
    "    career_=get_career_from_name(auth_name_to_search.replace(',',''));it+=1;\n",
    "    dict_careers[auth_name_to_search] = json.dumps(career_)\n",
    "    print(auth_name_to_search)\n",
    "#         if it%10==0:\n",
    "    print(it,len(names_),end='\\r')\n",
    "    t_oc = time.time();\n",
    "    progress='ERC'+'   '+str(it)+ '---- '+str(it/len(names_))+' '+str(round(t_oc-t_ic,2))+'--estimated---'+str(round((t_oc-t_ic)/(it/len(names_))/3600,3))+'hours'\n",
    "    print(progress,end='\\r')\n",
    "    with open(path_codes+\"0_track_ERC.txt\", \"w\") as file_object:\n",
    "        file_object.write(progress+'\\n')\n",
    "\n",
    "    if (it%100==0) and it>0:\n",
    "        num_file=round((it+1)/100)\n",
    "        path_career='/mnt/sdb1/sandeep/5. NSF vs ERC/data/'\n",
    "        with open(path_career+'dict_careers_ERC'+str(num_file)+'.pkl', 'wb') as f:\n",
    "            pickle.dump(dict_careers, f)\n",
    "        dict_careers={}    \n",
    "\n"
   ]
  },
  {
   "cell_type": "code",
   "execution_count": 30,
   "id": "5a350d45-69cd-4039-a8df-b3b0b9b17d2d",
   "metadata": {},
   "outputs": [
    {
     "data": {
      "text/plain": [
       "(array([147]),)"
      ]
     },
     "execution_count": 30,
     "metadata": {},
     "output_type": "execute_result"
    }
   ],
   "source": [
    "np.where(np.array(names_)=='Dirk Jan Slotboom')"
   ]
  },
  {
   "cell_type": "code",
   "execution_count": 42,
   "id": "882dec2f-9e82-40bf-82db-0cb6d2bd7143",
   "metadata": {},
   "outputs": [
    {
     "name": "stdout",
     "output_type": "stream",
     "text": [
      "100 1\n",
      "200 2\n",
      "300 3\n",
      "400 4\n",
      "500 5\n",
      "600 6\n",
      "700 7\n",
      "800 8\n",
      "900 9\n"
     ]
    }
   ],
   "source": [
    "for it in range(1000):\n",
    "    if (it%100==0) and it>0:\n",
    "\n",
    "        num_file=round((it+1)/100)\n",
    "        print(it,num_file)\n"
   ]
  },
  {
   "cell_type": "code",
   "execution_count": null,
   "id": "8b381740-c65e-486c-8f1b-46880374991e",
   "metadata": {},
   "outputs": [],
   "source": []
  }
 ],
 "metadata": {
  "kernelspec": {
   "display_name": "Python 3",
   "language": "python",
   "name": "python3"
  },
  "language_info": {
   "codemirror_mode": {
    "name": "ipython",
    "version": 3
   },
   "file_extension": ".py",
   "mimetype": "text/x-python",
   "name": "python",
   "nbconvert_exporter": "python",
   "pygments_lexer": "ipython3",
   "version": "3.9.2"
  }
 },
 "nbformat": 4,
 "nbformat_minor": 5
}
